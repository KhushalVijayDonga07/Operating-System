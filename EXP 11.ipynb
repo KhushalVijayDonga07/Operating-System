{
 "cells": [
  {
   "cell_type": "code",
   "execution_count": 1,
   "id": "4bdc9c81",
   "metadata": {},
   "outputs": [],
   "source": [
    "#1\n",
    "with open('first.txt','r') as firstfile, open('second.txt','a') as secondfile:\n",
    "    \n",
    "    # read content from first file\n",
    "    for line in firstfile:\n",
    "            # append content to second file\n",
    "            secondfile.write(line)\n"
   ]
  },
  {
   "cell_type": "code",
   "execution_count": null,
   "id": "e15efcb5",
   "metadata": {},
   "outputs": [],
   "source": []
  },
  {
   "cell_type": "code",
   "execution_count": 3,
   "id": "8298e6a1",
   "metadata": {},
   "outputs": [
    {
     "name": "stdout",
     "output_type": "stream",
     "text": [
      "Number of words in text file : 2\n"
     ]
    }
   ],
   "source": [
    "#2\n",
    "file = open(\"first.txt\", \"rt\")\n",
    "data = file.read()\n",
    "words = data.split()\n",
    "\n",
    "print('Number of words in text file :', len(words))\n"
   ]
  },
  {
   "cell_type": "code",
   "execution_count": null,
   "id": "4ba0eb90",
   "metadata": {},
   "outputs": [],
   "source": []
  },
  {
   "cell_type": "code",
   "execution_count": 4,
   "id": "9f589539",
   "metadata": {},
   "outputs": [
    {
     "name": "stdout",
     "output_type": "stream",
     "text": [
      "This is the first line\n",
      "This is the second line\n",
      "This is the third line\n"
     ]
    }
   ],
   "source": [
    "#3\n",
    "# Open the file for writing\n",
    "with open('first.txt', 'w') as f:\n",
    "    # Define the data to be written\n",
    "    data = ['This is the first line', 'This is the second line', 'This is the third line']\n",
    "    # Use a for loop to write each line of data to the file\n",
    "    for line in data:\n",
    "        f.write(line + '\\n')\n",
    "        # Optionally, print the data as it is written to the file\n",
    "        print(line)\n",
    "# The file is automatically closed when the 'with' block ends\n"
   ]
  },
  {
   "cell_type": "code",
   "execution_count": null,
   "id": "feb80538",
   "metadata": {},
   "outputs": [],
   "source": []
  }
 ],
 "metadata": {
  "kernelspec": {
   "display_name": "Python 3 (ipykernel)",
   "language": "python",
   "name": "python3"
  },
  "language_info": {
   "codemirror_mode": {
    "name": "ipython",
    "version": 3
   },
   "file_extension": ".py",
   "mimetype": "text/x-python",
   "name": "python",
   "nbconvert_exporter": "python",
   "pygments_lexer": "ipython3",
   "version": "3.9.12"
  }
 },
 "nbformat": 4,
 "nbformat_minor": 5
}
