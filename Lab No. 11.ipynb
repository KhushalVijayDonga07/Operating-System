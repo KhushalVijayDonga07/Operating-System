{
 "cells": [
  {
   "cell_type": "code",
   "execution_count": null,
   "id": "13ba8e8a",
   "metadata": {},
   "outputs": [],
   "source": [
    "# Open the file for writing\n",
    "with open('file.txt', 'w') as f:\n",
    "    # Define the data to be written\n",
    "    data = ['This is the first line', 'This is the second line', 'This is the third line']\n",
    "    # Use a for loop to write each line of data to the file\n",
    "    for line in data:\n",
    "        f.write(line + '\\n')\n",
    "        # Optionally, print the data as it is written to the file\n",
    "        print(line)\n",
    "# The file is automatically closed when the 'with' block ends\n"
   ]
  }
 ],
 "metadata": {
  "kernelspec": {
   "display_name": "Python 3 (ipykernel)",
   "language": "python",
   "name": "python3"
  },
  "language_info": {
   "codemirror_mode": {
    "name": "ipython",
    "version": 3
   },
   "file_extension": ".py",
   "mimetype": "text/x-python",
   "name": "python",
   "nbconvert_exporter": "python",
   "pygments_lexer": "ipython3",
   "version": "3.9.12"
  }
 },
 "nbformat": 4,
 "nbformat_minor": 5
}
