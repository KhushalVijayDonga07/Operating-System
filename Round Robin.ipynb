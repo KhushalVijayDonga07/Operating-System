{
 "cells": [
  {
   "cell_type": "code",
   "execution_count": 2,
   "id": "81322a2e",
   "metadata": {},
   "outputs": [
    {
     "name": "stdout",
     "output_type": "stream",
     "text": [
      "Enter Total Process Number: \n",
      "3\n",
      "Enter process arrival time and burst time\n",
      "0 1 \n"
     ]
    },
    {
     "ename": "ValueError",
     "evalue": "invalid literal for int() with base 10: ''",
     "output_type": "error",
     "traceback": [
      "\u001b[1;31m---------------------------------------------------------------------------\u001b[0m",
      "\u001b[1;31mValueError\u001b[0m                                Traceback (most recent call last)",
      "Input \u001b[1;32mIn [2]\u001b[0m, in \u001b[0;36m<cell line: 1>\u001b[1;34m()\u001b[0m\n\u001b[0;32m     11\u001b[0m \u001b[38;5;28;01mfor\u001b[39;00m _ \u001b[38;5;129;01min\u001b[39;00m \u001b[38;5;28mrange\u001b[39m(total_p_no):\n\u001b[0;32m     12\u001b[0m     \u001b[38;5;66;03m# Getting the input for process\u001b[39;00m\n\u001b[0;32m     13\u001b[0m     \u001b[38;5;28mprint\u001b[39m(\u001b[38;5;124m\"\u001b[39m\u001b[38;5;124mEnter process arrival time and burst time\u001b[39m\u001b[38;5;124m\"\u001b[39m) \n\u001b[1;32m---> 14\u001b[0m     input_info \u001b[38;5;241m=\u001b[39m \u001b[38;5;28;43mlist\u001b[39;49m\u001b[43m(\u001b[49m\u001b[38;5;28;43mmap\u001b[39;49m\u001b[43m(\u001b[49m\u001b[38;5;28;43mint\u001b[39;49m\u001b[43m,\u001b[49m\u001b[43m \u001b[49m\u001b[38;5;28;43minput\u001b[39;49m\u001b[43m(\u001b[49m\u001b[43m)\u001b[49m\u001b[38;5;241;43m.\u001b[39;49m\u001b[43msplit\u001b[49m\u001b[43m(\u001b[49m\u001b[38;5;124;43m\"\u001b[39;49m\u001b[38;5;124;43m \u001b[39;49m\u001b[38;5;124;43m\"\u001b[39;49m\u001b[43m)\u001b[49m\u001b[43m)\u001b[49m\u001b[43m)\u001b[49m\n\u001b[0;32m     15\u001b[0m     arrival, burst, remaining_time \u001b[38;5;241m=\u001b[39m input_info[\u001b[38;5;241m0\u001b[39m], input_info[\u001b[38;5;241m1\u001b[39m], input_info[\u001b[38;5;241m1\u001b[39m]\n\u001b[0;32m     16\u001b[0m     \u001b[38;5;66;03m# processes are appended to the proc list in following format\u001b[39;00m\n",
      "\u001b[1;31mValueError\u001b[0m: invalid literal for int() with base 10: ''"
     ]
    }
   ],
   "source": [
    "if __name__ == '__main__':\n",
    "    # Python program for implementation of RR Scheduling\n",
    "    print(\"Enter Total Process Number: \")\n",
    "    total_p_no = int(input())\n",
    "    total_time = 0 \n",
    "    total_time_counted = 0\n",
    "    # proc is process list\n",
    "    proc = []\n",
    "    wait_time = 0\n",
    "    turnaround_time = 0\n",
    "    for _ in range(total_p_no):\n",
    "        # Getting the input for process\n",
    "        print(\"Enter process arrival time and burst time\") \n",
    "        input_info = list(map(int, input().split(\" \")))\n",
    "        arrival, burst, remaining_time = input_info[0], input_info[1], input_info[1]\n",
    "        # processes are appended to the proc list in following format\n",
    "        proc.append([arrival, burst, remaining_time, 0])\n",
    "        # total_time gets incremented with burst time of each process\n",
    "        total_time += burst\n",
    "    print(\"Enter time quantum\")\n",
    "    time_quantum = int(input())\n",
    "    # Keep traversing in round robin manner until the total_time == 0\n",
    "    while total_time != 0:\n",
    "        # traverse all the processes\n",
    "        for i in range(len(proc)):\n",
    "            # proc[i][2] here refers to remaining_time for each process i.e \"i\"\n",
    "            if proc[i][2] <= time_quantum and proc[i][2] >= 0:\n",
    "                total_time_counted += proc[i][2]\n",
    "                total_time -= proc[i][2]\n",
    "                # the process has completely ended here thus setting it's remaining time to 0.\n",
    "                proc[i][2] = 0 \n",
    "            elif proc[i][2] > 0:\n",
    "                # if process has not finished, decrementing it's remaining time by time_quantum\n",
    "                proc[i][2] -= time_quantum\n",
    "                total_time -= time_quantum\n",
    "                total_time_counted += time_quantum\n",
    "            if proc[i][2] == 0 and proc[i][3] != 1:\n",
    "                # if remaining time of process is 0\n",
    "                # and \n",
    "                # individual waiting time of process has not been calculated i.e flag\n",
    "                wait_time += total_time_counted - proc[i][0] - proc[i][1]\n",
    "                turnaround_time += total_time_counted - proc[i][0]\n",
    "                # flag i5s set to 1 once wait time is calculated\n",
    "                proc[i][3] = 1 \n",
    "    print(\"\\nAvg Waiting Time is \", (wait_time * 1) / total_p_no)\n",
    "    print(\"Avg Turnaround Time is \", (turnaround_time * 1) / total_p_no)\n",
    "\n",
    "\n"
   ]
  },
  {
   "cell_type": "code",
   "execution_count": null,
   "id": "1c62d8ae",
   "metadata": {},
   "outputs": [],
   "source": []
  },
  {
   "cell_type": "code",
   "execution_count": 5,
   "id": "9888522b",
   "metadata": {},
   "outputs": [
    {
     "name": "stdout",
     "output_type": "stream",
     "text": [
      "Enter Total Process Number: \n",
      "3\n",
      "Enter process arrival time and burst time\n",
      "0 1\n",
      "Enter process arrival time and burst time\n",
      "2 3\n",
      "Enter process arrival time and burst time\n",
      "3 4\n",
      "Enter time quantum\n",
      "1\n",
      "\n",
      "Avg Waiting Time is  0.6666666666666666\n",
      "Avg Turnaround Time is  3.3333333333333335\n"
     ]
    }
   ],
   "source": [
    "if __name__ == '__main__':\n",
    "    # Python program for implementation of RR Scheduling\n",
    "    print(\"Enter Total Process Number: \")\n",
    "    total_p_no = int(input())\n",
    "    total_time = 0 \n",
    "    total_time_counted = 0\n",
    "    # proc is process list\n",
    "    proc = []\n",
    "    wait_time = 0\n",
    "    turnaround_time = 0\n",
    "    for _ in range(total_p_no):\n",
    "        # Getting the input for process\n",
    "        print(\"Enter process arrival time and burst time\") \n",
    "        input_info = list(map(int, input().split(\" \")))\n",
    "        arrival, burst, remaining_time = input_info[0], input_info[1], input_info[1]\n",
    "        # processes are appended to the proc list in following format\n",
    "        proc.append([arrival, burst, remaining_time, 0])\n",
    "        # total_time gets incremented with burst time of each process\n",
    "        total_time += burst\n",
    "    print(\"Enter time quantum\")\n",
    "    time_quantum = int(input())\n",
    "    # Keep traversing in round robin manner until the total_time == 0\n",
    "    while total_time != 0:\n",
    "        # traverse all the processes\n",
    "        for i in range(len(proc)):\n",
    "            # proc[i][2] here refers to remaining_time for each process i.e \"i\"\n",
    "            if proc[i][2] <= time_quantum and proc[i][2] >= 0:\n",
    "                total_time_counted += proc[i][2]\n",
    "                total_time -= proc[i][2]\n",
    "                # the process has completely ended here thus setting it's remaining time to 0.\n",
    "                proc[i][2] = 0 \n",
    "            elif proc[i][2] > 0:\n",
    "                # if process has not finished, decrementing it's remaining time by time_quantum\n",
    "                proc[i][2] -= time_quantum\n",
    "                total_time -= time_quantum\n",
    "                total_time_counted += time_quantum\n",
    "            if proc[i][2] == 0 and proc[i][3] != 1:\n",
    "                # if remaining time of process is 0\n",
    "                # and \n",
    "                # individual waiting time of process has not been calculated i.e flag\n",
    "                wait_time += total_time_counted - proc[i][0] - proc[i][1]\n",
    "                turnaround_time += total_time_counted - proc[i][0]\n",
    "                # flag is set to 1 once wait time is calculated\n",
    "                proc[i][3] = 1 \n",
    "    print(\"\\nAvg Waiting Time is \", (wait_time * 1) / total_p_no)\n",
    "    print(\"Avg Turnaround Time is \", (turnaround_time * 1) / total_p_no)"
   ]
  }
 ],
 "metadata": {
  "kernelspec": {
   "display_name": "Python 3 (ipykernel)",
   "language": "python",
   "name": "python3"
  },
  "language_info": {
   "codemirror_mode": {
    "name": "ipython",
    "version": 3
   },
   "file_extension": ".py",
   "mimetype": "text/x-python",
   "name": "python",
   "nbconvert_exporter": "python",
   "pygments_lexer": "ipython3",
   "version": "3.9.12"
  }
 },
 "nbformat": 4,
 "nbformat_minor": 5
}
