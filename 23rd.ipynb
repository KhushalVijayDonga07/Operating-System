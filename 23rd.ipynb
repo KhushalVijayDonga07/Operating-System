{
 "cells": [
  {
   "cell_type": "code",
   "execution_count": 21,
   "id": "a0451acb",
   "metadata": {},
   "outputs": [
    {
     "name": "stdout",
     "output_type": "stream",
     "text": [
      "The sum of 9 and 222.5 is: 231.5\n"
     ]
    }
   ],
   "source": [
    "def add_numbers(a: int, b: int) -> int:\n",
    "    return num1 + num2\n",
    "a: int = 9\n",
    "b: int = 222.5\n",
    "result: int = add_numbers(a, b)\n",
    "print(f\"The sum of {a} and {b} is: {result}\")"
   ]
  },
  {
   "cell_type": "code",
   "execution_count": 24,
   "id": "e38849b5",
   "metadata": {},
   "outputs": [
    {
     "name": "stdout",
     "output_type": "stream",
     "text": [
      "200.1\n"
     ]
    }
   ],
   "source": [
    "def add_numberss(a:float,b:float):\n",
    "    return a+b\n",
    "\n",
    "x=99.55\n",
    "y=100.55\n",
    "\n",
    "result=add_numberss(x,y)\n",
    "\n",
    "print(result)"
   ]
  },
  {
   "cell_type": "code",
   "execution_count": 47,
   "id": "c07a906c",
   "metadata": {},
   "outputs": [
    {
     "name": "stdout",
     "output_type": "stream",
     "text": [
      " Process No. Process Size   Block no.\n",
      "  1           212           2\n",
      "  2           417           0\n",
      "  3           112           3\n",
      "  4           426           0\n"
     ]
    }
   ],
   "source": [
    "# Python3 implementation of First-Fit algorithm\n",
    " \n",
    "# Function to allocate memory to\n",
    "# blocks as per First fit algorithm\n",
    "def firstFit(blockSize, m, processSize, n):\n",
    "     \n",
    "    # Stores block id of the\n",
    "    # block allocated to a process\n",
    "    allocation = [-1] * n\n",
    " \n",
    "    # Initially no block is assigned to any process\n",
    " \n",
    "    # pick each process and find suitable blocks\n",
    "    # according to its size ad assign to it\n",
    "    for i in range(n):\n",
    "        for j in range(m):\n",
    "            if blockSize[j] >= processSize[i]:\n",
    "                 \n",
    "                # allocate block j to p[i] process\n",
    "                allocation[i] = j\n",
    " \n",
    "                # Reduce available memory in this block.\n",
    "                blockSize[j] =- processSize[i]\n",
    " \n",
    "                break\n",
    " \n",
    "    print(\" Process No. Process Size   Block no.\")\n",
    "    for i in range(n):\n",
    "        print(\" \", i + 1, \"         \", processSize[i],\n",
    "                          \"         \", end = \" \")\n",
    "        if allocation[i] != 0:\n",
    "            print(allocation[i] + 1)\n",
    "        else:\n",
    "            print(\"Not Allocated\")\n",
    " \n",
    "# Driver code\n",
    "if __name__ == '__main__':\n",
    "    blockSize = [100, 500,200, 300, 0]\n",
    "    processSize = [212, 417, 112, 426]\n",
    "    m = len(blockSize)\n",
    "    n = len(processSize)\n",
    " \n",
    "    firstFit(blockSize, m, processSize, n)\n"
   ]
  },
  {
   "cell_type": "code",
   "execution_count": null,
   "id": "711d2d22",
   "metadata": {},
   "outputs": [],
   "source": []
  }
 ],
 "metadata": {
  "kernelspec": {
   "display_name": "Python 3 (ipykernel)",
   "language": "python",
   "name": "python3"
  },
  "language_info": {
   "codemirror_mode": {
    "name": "ipython",
    "version": 3
   },
   "file_extension": ".py",
   "mimetype": "text/x-python",
   "name": "python",
   "nbconvert_exporter": "python",
   "pygments_lexer": "ipython3",
   "version": "3.9.13"
  }
 },
 "nbformat": 4,
 "nbformat_minor": 5
}
